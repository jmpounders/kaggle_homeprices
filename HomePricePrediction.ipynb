{
 "cells": [
  {
   "cell_type": "markdown",
   "metadata": {},
   "source": [
    "# Kaggle House Prices: Advanced Regression Techniques"
   ]
  },
  {
   "cell_type": "code",
   "execution_count": 1,
   "metadata": {
    "collapsed": false
   },
   "outputs": [],
   "source": [
    "%matplotlib inline\n",
    "import csv\n",
    "import numpy as np\n",
    "import pandas as pd\n",
    "import matplotlib\n",
    "import matplotlib.pyplot as plt\n",
    "from sklearn.ensemble import RandomForestRegressor\n",
    "from sklearn.ensemble import GradientBoostingRegressor\n",
    "from sklearn.linear_model import LinearRegression\n",
    "from sklearn.linear_model import Lasso\n",
    "from sklearn.neighbors import KNeighborsRegressor\n",
    "from sklearn.preprocessing import StandardScaler\n",
    "from sklearn import cross_validation\n",
    "from sklearn.metrics import mean_squared_error\n",
    "\n",
    "from scipy.stats.mstats import normaltest"
   ]
  },
  {
   "cell_type": "markdown",
   "metadata": {},
   "source": [
    "Read the data.  I am turning off the na filter because there are a lot of \"legitimate\" NA values in the data, i.e., the \"NA\" value often has real meaning.  This approach will lead to a little more work cleaning but, hopefully, retain more information in the data."
   ]
  },
  {
   "cell_type": "code",
   "execution_count": 2,
   "metadata": {
    "collapsed": false
   },
   "outputs": [],
   "source": [
    "# This reads \"legitimate\" values of NA as null\n",
    "df_train = pd.read_csv('train.csv', header=0, na_filter=False)\n",
    "df_test = pd.read_csv('test.csv', header=0, na_filter=False)\n",
    "y = df_train.pop('SalePrice')\n",
    "df_train['TrainTest'] = 'Train'\n",
    "df_test['TrainTest'] = 'Test'\n",
    "df = pd.concat([df_train,df_test], ignore_index=True)"
   ]
  },
  {
   "cell_type": "code",
   "execution_count": 3,
   "metadata": {
    "collapsed": false
   },
   "outputs": [
    {
     "name": "stdout",
     "output_type": "stream",
     "text": [
      "<class 'pandas.core.frame.DataFrame'>\n",
      "RangeIndex: 2919 entries, 0 to 2918\n",
      "Data columns (total 81 columns):\n",
      "Id               2919 non-null int64\n",
      "MSSubClass       2919 non-null int64\n",
      "MSZoning         2919 non-null object\n",
      "LotFrontage      2919 non-null object\n",
      "LotArea          2919 non-null int64\n",
      "Street           2919 non-null object\n",
      "Alley            2919 non-null object\n",
      "LotShape         2919 non-null object\n",
      "LandContour      2919 non-null object\n",
      "Utilities        2919 non-null object\n",
      "LotConfig        2919 non-null object\n",
      "LandSlope        2919 non-null object\n",
      "Neighborhood     2919 non-null object\n",
      "Condition1       2919 non-null object\n",
      "Condition2       2919 non-null object\n",
      "BldgType         2919 non-null object\n",
      "HouseStyle       2919 non-null object\n",
      "OverallQual      2919 non-null int64\n",
      "OverallCond      2919 non-null int64\n",
      "YearBuilt        2919 non-null int64\n",
      "YearRemodAdd     2919 non-null int64\n",
      "RoofStyle        2919 non-null object\n",
      "RoofMatl         2919 non-null object\n",
      "Exterior1st      2919 non-null object\n",
      "Exterior2nd      2919 non-null object\n",
      "MasVnrType       2919 non-null object\n",
      "MasVnrArea       2919 non-null object\n",
      "ExterQual        2919 non-null object\n",
      "ExterCond        2919 non-null object\n",
      "Foundation       2919 non-null object\n",
      "BsmtQual         2919 non-null object\n",
      "BsmtCond         2919 non-null object\n",
      "BsmtExposure     2919 non-null object\n",
      "BsmtFinType1     2919 non-null object\n",
      "BsmtFinSF1       2919 non-null object\n",
      "BsmtFinType2     2919 non-null object\n",
      "BsmtFinSF2       2919 non-null object\n",
      "BsmtUnfSF        2919 non-null object\n",
      "TotalBsmtSF      2919 non-null object\n",
      "Heating          2919 non-null object\n",
      "HeatingQC        2919 non-null object\n",
      "CentralAir       2919 non-null object\n",
      "Electrical       2919 non-null object\n",
      "1stFlrSF         2919 non-null int64\n",
      "2ndFlrSF         2919 non-null int64\n",
      "LowQualFinSF     2919 non-null int64\n",
      "GrLivArea        2919 non-null int64\n",
      "BsmtFullBath     2919 non-null object\n",
      "BsmtHalfBath     2919 non-null object\n",
      "FullBath         2919 non-null int64\n",
      "HalfBath         2919 non-null int64\n",
      "BedroomAbvGr     2919 non-null int64\n",
      "KitchenAbvGr     2919 non-null int64\n",
      "KitchenQual      2919 non-null object\n",
      "TotRmsAbvGrd     2919 non-null int64\n",
      "Functional       2919 non-null object\n",
      "Fireplaces       2919 non-null int64\n",
      "FireplaceQu      2919 non-null object\n",
      "GarageType       2919 non-null object\n",
      "GarageYrBlt      2919 non-null object\n",
      "GarageFinish     2919 non-null object\n",
      "GarageCars       2919 non-null object\n",
      "GarageArea       2919 non-null object\n",
      "GarageQual       2919 non-null object\n",
      "GarageCond       2919 non-null object\n",
      "PavedDrive       2919 non-null object\n",
      "WoodDeckSF       2919 non-null int64\n",
      "OpenPorchSF      2919 non-null int64\n",
      "EnclosedPorch    2919 non-null int64\n",
      "3SsnPorch        2919 non-null int64\n",
      "ScreenPorch      2919 non-null int64\n",
      "PoolArea         2919 non-null int64\n",
      "PoolQC           2919 non-null object\n",
      "Fence            2919 non-null object\n",
      "MiscFeature      2919 non-null object\n",
      "MiscVal          2919 non-null int64\n",
      "MoSold           2919 non-null int64\n",
      "YrSold           2919 non-null int64\n",
      "SaleType         2919 non-null object\n",
      "SaleCondition    2919 non-null object\n",
      "TrainTest        2919 non-null object\n",
      "dtypes: int64(26), object(55)\n",
      "memory usage: 1.8+ MB\n"
     ]
    }
   ],
   "source": [
    "df.info()"
   ]
  },
  {
   "cell_type": "markdown",
   "metadata": {},
   "source": [
    "# Data Prep"
   ]
  },
  {
   "cell_type": "markdown",
   "metadata": {},
   "source": [
    "One downside to turning off the na filter is that any numeric feature becomes an `object` feature if there are any missing values.  Let's fix this first."
   ]
  },
  {
   "cell_type": "code",
   "execution_count": 4,
   "metadata": {
    "collapsed": false
   },
   "outputs": [],
   "source": [
    "df['LotFrontage'] = df['LotFrontage'].replace('NA',np.nan).apply(float)\n",
    "df['MasVnrArea'] = df['MasVnrArea'].replace('NA',np.nan).apply(float)\n",
    "df['BsmtFinSF1'] = df['BsmtFinSF1'].replace('NA',np.nan).apply(float)\n",
    "df['BsmtFinSF2'] = df['BsmtFinSF2'].replace('NA',np.nan).apply(float)\n",
    "df['BsmtUnfSF'] = df['BsmtUnfSF'].replace('NA',np.nan).apply(float)\n",
    "df['TotalBsmtSF'] = df['TotalBsmtSF'].replace('NA',np.nan).apply(float)\n",
    "df['BsmtFullBath'] = df['BsmtFullBath'].replace('NA',np.nan).apply(float)\n",
    "df['BsmtHalfBath'] = df['BsmtHalfBath'].replace('NA',np.nan).apply(float)\n",
    "df['GarageYrBlt'] = df['GarageYrBlt'].replace('NA',np.nan).apply(float)\n",
    "df['GarageArea'] = df['GarageArea'].replace('NA',np.nan).apply(float)\n",
    "df['GarageCars'] = df['GarageCars'].replace('NA',np.nan).apply(float)"
   ]
  },
  {
   "cell_type": "markdown",
   "metadata": {},
   "source": [
    "The `MSSubClass` data was interpreted as `int` but it is really categorical, so make it `str` instead."
   ]
  },
  {
   "cell_type": "code",
   "execution_count": 5,
   "metadata": {
    "collapsed": true
   },
   "outputs": [],
   "source": [
    "df['MSSubClass'] = df['MSSubClass'].apply(str)"
   ]
  },
  {
   "cell_type": "markdown",
   "metadata": {},
   "source": [
    "Now let's find the \"legitimate\" NA values and call them something else: `None` works.  Any other NA values left are the real missing data."
   ]
  },
  {
   "cell_type": "code",
   "execution_count": 6,
   "metadata": {
    "collapsed": false
   },
   "outputs": [],
   "source": [
    "df['Alley'].replace('NA','None', inplace=True)\n",
    "df['BsmtQual'].replace('NA','None', inplace=True)\n",
    "df['BsmtCond'].replace('NA','None', inplace=True)\n",
    "df['BsmtExposure'].replace('NA','None', inplace=True)\n",
    "df['BsmtFinType1'].replace('NA','None', inplace=True)\n",
    "df['BsmtFinType2'].replace('NA','None', inplace=True)\n",
    "df['FireplaceQu'].replace('NA','None', inplace=True)\n",
    "df['GarageType'].replace('NA','None', inplace=True)\n",
    "df['GarageFinish'].replace('NA','None', inplace=True)\n",
    "df['GarageQual'].replace('NA','None', inplace=True)\n",
    "df['GarageCond'].replace('NA','None', inplace=True)\n",
    "df['PoolQC'].replace('NA','None', inplace=True)\n",
    "df['Fence'].replace('NA','None', inplace=True)\n",
    "df['MiscFeature'].replace('NA','None', inplace=True)\n",
    "\n",
    "df.replace('NA',np.nan, inplace=True)"
   ]
  },
  {
   "cell_type": "markdown",
   "metadata": {},
   "source": [
    "Several of the categorical features are actually ranking the quality of some element of the home.  This will be replaced by an integer ranking system."
   ]
  },
  {
   "cell_type": "code",
   "execution_count": 7,
   "metadata": {
    "collapsed": false
   },
   "outputs": [],
   "source": [
    "qual_to_num = {'Ex':5, \n",
    "               'Gd':4,\n",
    "               'TA':3,\n",
    "               'Fa':2,\n",
    "               'Po':1,\n",
    "               'None':0}\n",
    "df['ExterQual']  = df['ExterQual'].map(qual_to_num)\n",
    "df['ExterCond']  = df['ExterCond'].map(qual_to_num)\n",
    "df['BsmtQual']   = df['BsmtQual'].map(qual_to_num)\n",
    "df['BsmtCond']   = df['BsmtCond'].map(qual_to_num)\n",
    "df['HeatingQC']  = df['HeatingQC'].map(qual_to_num)\n",
    "df['KitchenQual'] = df['KitchenQual'].map(qual_to_num)\n",
    "df['FireplaceQu'] = df['FireplaceQu'].map(qual_to_num)\n",
    "df['GarageQual']  = df['GarageQual'].map(qual_to_num)\n",
    "df['GarageCond']  = df['GarageCond'].map(qual_to_num)\n",
    "df['PoolQC']      = df['PoolQC'].map(qual_to_num)\n",
    "\n",
    "BsmtExposure_to_num = {'Gd':4,\n",
    "                       'Av':3,\n",
    "                       'Mn':2,\n",
    "                       'No':1,\n",
    "                       'None':0}\n",
    "df['BsmtExposure'] = df['BsmtExposure'].map(BsmtExposure_to_num)\n",
    "\n",
    "BsmtFinType1_to_num = {'GLQ':6,\n",
    "                       'ALQ':5,\n",
    "                       'BLQ':4,\n",
    "                       'Rec':3,\n",
    "                       'LwQ':2,\n",
    "                       'Unf':1,\n",
    "                       'None':0}\n",
    "df['BsmtFinType1'] = df['BsmtFinType1'].map(BsmtFinType1_to_num)\n",
    "df['BsmtFinType2'] = df['BsmtFinType2'].map(BsmtFinType1_to_num)\n",
    "\n",
    "Functional_to_num = {'Typ':8,\n",
    "                     'Min1':7,\n",
    "                     'Min2':6,\n",
    "                     'Mod':5,\n",
    "                     'Maj1':4,\n",
    "                     'Maj2':3,\n",
    "                     'Sev':2,\n",
    "                     'Sal':1}\n",
    "df['Functional'] = df['Functional'].map(Functional_to_num)\n",
    "GarageFinish_to_num = {'Fin':3,\n",
    "                       'RFn':2,\n",
    "                       'Unf':1,\n",
    "                       'None':0}\n",
    "df['GarageFinish'] = df['GarageFinish'].map(GarageFinish_to_num)"
   ]
  },
  {
   "cell_type": "markdown",
   "metadata": {},
   "source": [
    "Some missing values could indicate the lack of the feature in the first place.  For example, if there is no basement, basement square footage is irrelevant."
   ]
  },
  {
   "cell_type": "code",
   "execution_count": 8,
   "metadata": {
    "collapsed": false
   },
   "outputs": [],
   "source": [
    "no_bsmt = df['BsmtQual'] == 0\n",
    "df.loc[no_bsmt,['BsmtQual',\n",
    "                'BsmtCond',\n",
    "                'BsmtExposure',\n",
    "                'BsmtFinType1',\n",
    "                'BsmtFinSF1',\n",
    "                'BsmtFinType2',\n",
    "                'BsmtFinSF2',\n",
    "                'BsmtUnfSF',\n",
    "                'TotalBsmtSF',\n",
    "                'BsmtFullBath',\n",
    "                'BsmtHalfBath']] = 0"
   ]
  },
  {
   "cell_type": "code",
   "execution_count": 9,
   "metadata": {
    "collapsed": false
   },
   "outputs": [],
   "source": [
    "no_fireplace = df['Fireplaces']==0\n",
    "df.loc[no_fireplace,'FireplaceQu']=0"
   ]
  },
  {
   "cell_type": "code",
   "execution_count": 10,
   "metadata": {
    "collapsed": false
   },
   "outputs": [],
   "source": [
    "no_garage = df['GarageType'] == 'None'\n",
    "df.loc[no_garage,['GarageType',\n",
    "                  'GarageYrBlt',\n",
    "                  'GarageFinish',\n",
    "                  'GarageCars',\n",
    "                  'GarageArea',\n",
    "                  'GarageQual',\n",
    "                  'GarageCond',]] = 0"
   ]
  },
  {
   "cell_type": "code",
   "execution_count": 11,
   "metadata": {
    "collapsed": false
   },
   "outputs": [],
   "source": [
    "no_pool = (df['PoolQC']==0) | (df['PoolArea']==0)\n",
    "df.loc[no_pool,['PoolArea','PoolQC']] = 0"
   ]
  },
  {
   "cell_type": "code",
   "execution_count": 12,
   "metadata": {
    "collapsed": false
   },
   "outputs": [],
   "source": [
    "no_masonry = df['MasVnrArea'].isnull()\n",
    "df.loc[no_masonry,'MasVnrArea'] = 0\n",
    "\n",
    "no_masonry = df['MasVnrArea']==0\n",
    "df.loc[no_masonry,'MasVnrType'] = 'None'"
   ]
  },
  {
   "cell_type": "markdown",
   "metadata": {},
   "source": [
    "What is included in `MiscFeature`?"
   ]
  },
  {
   "cell_type": "code",
   "execution_count": 13,
   "metadata": {
    "collapsed": false
   },
   "outputs": [
    {
     "data": {
      "text/plain": [
       "Shed    95\n",
       "Gar2     5\n",
       "Othr     4\n",
       "TenC     1\n",
       "Name: MiscFeature, dtype: int64"
      ]
     },
     "execution_count": 13,
     "metadata": {},
     "output_type": "execute_result"
    }
   ],
   "source": [
    "df.loc[df['MiscFeature'] != 'None','MiscFeature'].value_counts()"
   ]
  },
  {
   "cell_type": "markdown",
   "metadata": {},
   "source": [
    "Most of this is clearly revealing whether some properties have sheds.  The 10 objects not included do not represent much data (and \"Othr\" should have no predictive quality... pool? rock garden? scenic overlook?), so let's just drop this feature altogether."
   ]
  },
  {
   "cell_type": "code",
   "execution_count": 14,
   "metadata": {
    "collapsed": true
   },
   "outputs": [],
   "source": [
    "df.drop('MiscFeature', axis=1, inplace=True)"
   ]
  },
  {
   "cell_type": "markdown",
   "metadata": {},
   "source": [
    "What missing data is left?"
   ]
  },
  {
   "cell_type": "code",
   "execution_count": 15,
   "metadata": {
    "collapsed": false,
    "scrolled": true
   },
   "outputs": [
    {
     "name": "stdout",
     "output_type": "stream",
     "text": [
      "MSZoning 4\n",
      "LotFrontage 486\n",
      "Utilities 2\n",
      "Exterior1st 1\n",
      "Exterior2nd 1\n",
      "MasVnrType 1\n",
      "Electrical 1\n",
      "KitchenQual 1\n",
      "Functional 2\n",
      "GarageYrBlt 2\n",
      "GarageCars 1\n",
      "GarageArea 1\n",
      "SaleType 1\n"
     ]
    }
   ],
   "source": [
    "for feat in df:\n",
    "    cnt = df[feat].isnull().sum()\n",
    "    if cnt>0:\n",
    "        print feat, cnt"
   ]
  },
  {
   "cell_type": "markdown",
   "metadata": {},
   "source": [
    "I am going to fill in missing data by populating it with the mean (numeric) or mode (categorical) corresponding to `MSSubClass`."
   ]
  },
  {
   "cell_type": "code",
   "execution_count": 16,
   "metadata": {
    "collapsed": false
   },
   "outputs": [
    {
     "name": "stdout",
     "output_type": "stream",
     "text": [
      "MSSubClass\n",
      "120    44.653333\n",
      "150          NaN\n",
      "160    26.887931\n",
      "180    26.250000\n",
      "190    68.228070\n",
      "20     77.667785\n",
      "30     60.952381\n",
      "40     53.400000\n",
      "45     55.555556\n",
      "50     63.156489\n",
      "60     79.042986\n",
      "70     64.213675\n",
      "75     74.523810\n",
      "80     78.635294\n",
      "85     73.437500\n",
      "90     70.836957\n",
      "Name: LotFrontage, dtype: float64\n"
     ]
    },
    {
     "data": {
      "text/html": [
       "<div>\n",
       "<table border=\"1\" class=\"dataframe\">\n",
       "  <thead>\n",
       "    <tr style=\"text-align: right;\">\n",
       "      <th></th>\n",
       "      <th>Id</th>\n",
       "      <th>MSZoning</th>\n",
       "      <th>LotFrontage</th>\n",
       "      <th>LotArea</th>\n",
       "      <th>Street</th>\n",
       "      <th>Alley</th>\n",
       "      <th>LotShape</th>\n",
       "      <th>LandContour</th>\n",
       "      <th>Utilities</th>\n",
       "      <th>LotConfig</th>\n",
       "      <th>...</th>\n",
       "      <th>ScreenPorch</th>\n",
       "      <th>PoolArea</th>\n",
       "      <th>PoolQC</th>\n",
       "      <th>Fence</th>\n",
       "      <th>MiscVal</th>\n",
       "      <th>MoSold</th>\n",
       "      <th>YrSold</th>\n",
       "      <th>SaleType</th>\n",
       "      <th>SaleCondition</th>\n",
       "      <th>TrainTest</th>\n",
       "    </tr>\n",
       "    <tr>\n",
       "      <th>MSSubClass</th>\n",
       "      <th></th>\n",
       "      <th></th>\n",
       "      <th></th>\n",
       "      <th></th>\n",
       "      <th></th>\n",
       "      <th></th>\n",
       "      <th></th>\n",
       "      <th></th>\n",
       "      <th></th>\n",
       "      <th></th>\n",
       "      <th></th>\n",
       "      <th></th>\n",
       "      <th></th>\n",
       "      <th></th>\n",
       "      <th></th>\n",
       "      <th></th>\n",
       "      <th></th>\n",
       "      <th></th>\n",
       "      <th></th>\n",
       "      <th></th>\n",
       "      <th></th>\n",
       "    </tr>\n",
       "  </thead>\n",
       "  <tbody>\n",
       "    <tr>\n",
       "      <th>120</th>\n",
       "      <td>1463.890110</td>\n",
       "      <td>RL</td>\n",
       "      <td>44.653333</td>\n",
       "      <td>5298.005495</td>\n",
       "      <td>Pave</td>\n",
       "      <td>None</td>\n",
       "      <td>Reg</td>\n",
       "      <td>Lvl</td>\n",
       "      <td>AllPub</td>\n",
       "      <td>Inside</td>\n",
       "      <td>...</td>\n",
       "      <td>22.016484</td>\n",
       "      <td>0.000000</td>\n",
       "      <td>0.000000</td>\n",
       "      <td>None</td>\n",
       "      <td>0.000000</td>\n",
       "      <td>6.329670</td>\n",
       "      <td>2007.802198</td>\n",
       "      <td>WD</td>\n",
       "      <td>Normal</td>\n",
       "      <td>Test</td>\n",
       "    </tr>\n",
       "    <tr>\n",
       "      <th>150</th>\n",
       "      <td>2819.000000</td>\n",
       "      <td>RL</td>\n",
       "      <td>NaN</td>\n",
       "      <td>1700.000000</td>\n",
       "      <td>Pave</td>\n",
       "      <td>None</td>\n",
       "      <td>Reg</td>\n",
       "      <td>HLS</td>\n",
       "      <td>AllPub</td>\n",
       "      <td>Inside</td>\n",
       "      <td>...</td>\n",
       "      <td>200.000000</td>\n",
       "      <td>0.000000</td>\n",
       "      <td>0.000000</td>\n",
       "      <td>None</td>\n",
       "      <td>0.000000</td>\n",
       "      <td>4.000000</td>\n",
       "      <td>2006.000000</td>\n",
       "      <td>WD</td>\n",
       "      <td>Normal</td>\n",
       "      <td>Test</td>\n",
       "    </tr>\n",
       "    <tr>\n",
       "      <th>160</th>\n",
       "      <td>1452.570312</td>\n",
       "      <td>RM</td>\n",
       "      <td>26.887931</td>\n",
       "      <td>2607.859375</td>\n",
       "      <td>Pave</td>\n",
       "      <td>None</td>\n",
       "      <td>Reg</td>\n",
       "      <td>Lvl</td>\n",
       "      <td>AllPub</td>\n",
       "      <td>Inside</td>\n",
       "      <td>...</td>\n",
       "      <td>0.734375</td>\n",
       "      <td>0.000000</td>\n",
       "      <td>0.000000</td>\n",
       "      <td>None</td>\n",
       "      <td>0.000000</td>\n",
       "      <td>6.054688</td>\n",
       "      <td>2007.851562</td>\n",
       "      <td>WD</td>\n",
       "      <td>Normal</td>\n",
       "      <td>Test</td>\n",
       "    </tr>\n",
       "    <tr>\n",
       "      <th>180</th>\n",
       "      <td>1487.588235</td>\n",
       "      <td>RM</td>\n",
       "      <td>26.250000</td>\n",
       "      <td>2357.176471</td>\n",
       "      <td>Pave</td>\n",
       "      <td>None</td>\n",
       "      <td>Reg</td>\n",
       "      <td>Lvl</td>\n",
       "      <td>AllPub</td>\n",
       "      <td>Inside</td>\n",
       "      <td>...</td>\n",
       "      <td>0.000000</td>\n",
       "      <td>0.000000</td>\n",
       "      <td>0.000000</td>\n",
       "      <td>None</td>\n",
       "      <td>0.000000</td>\n",
       "      <td>6.529412</td>\n",
       "      <td>2007.588235</td>\n",
       "      <td>WD</td>\n",
       "      <td>Normal</td>\n",
       "      <td>Train</td>\n",
       "    </tr>\n",
       "    <tr>\n",
       "      <th>190</th>\n",
       "      <td>1477.426230</td>\n",
       "      <td>RL</td>\n",
       "      <td>68.228070</td>\n",
       "      <td>13124.311475</td>\n",
       "      <td>Pave</td>\n",
       "      <td>None</td>\n",
       "      <td>Reg</td>\n",
       "      <td>Lvl</td>\n",
       "      <td>AllPub</td>\n",
       "      <td>Inside</td>\n",
       "      <td>...</td>\n",
       "      <td>8.426230</td>\n",
       "      <td>0.000000</td>\n",
       "      <td>0.000000</td>\n",
       "      <td>None</td>\n",
       "      <td>76.393443</td>\n",
       "      <td>5.508197</td>\n",
       "      <td>2007.639344</td>\n",
       "      <td>WD</td>\n",
       "      <td>Normal</td>\n",
       "      <td>Test</td>\n",
       "    </tr>\n",
       "    <tr>\n",
       "      <th>20</th>\n",
       "      <td>1456.891566</td>\n",
       "      <td>RL</td>\n",
       "      <td>77.667785</td>\n",
       "      <td>11629.441149</td>\n",
       "      <td>Pave</td>\n",
       "      <td>None</td>\n",
       "      <td>Reg</td>\n",
       "      <td>Lvl</td>\n",
       "      <td>AllPub</td>\n",
       "      <td>Inside</td>\n",
       "      <td>...</td>\n",
       "      <td>19.295644</td>\n",
       "      <td>0.945320</td>\n",
       "      <td>0.011121</td>\n",
       "      <td>None</td>\n",
       "      <td>79.642261</td>\n",
       "      <td>6.170528</td>\n",
       "      <td>2007.830399</td>\n",
       "      <td>WD</td>\n",
       "      <td>Normal</td>\n",
       "      <td>Test</td>\n",
       "    </tr>\n",
       "    <tr>\n",
       "      <th>30</th>\n",
       "      <td>1474.726619</td>\n",
       "      <td>RM</td>\n",
       "      <td>60.952381</td>\n",
       "      <td>8053.517986</td>\n",
       "      <td>Pave</td>\n",
       "      <td>None</td>\n",
       "      <td>Reg</td>\n",
       "      <td>Lvl</td>\n",
       "      <td>AllPub</td>\n",
       "      <td>Inside</td>\n",
       "      <td>...</td>\n",
       "      <td>4.863309</td>\n",
       "      <td>0.000000</td>\n",
       "      <td>0.000000</td>\n",
       "      <td>None</td>\n",
       "      <td>17.841727</td>\n",
       "      <td>6.057554</td>\n",
       "      <td>2007.841727</td>\n",
       "      <td>WD</td>\n",
       "      <td>Normal</td>\n",
       "      <td>Test</td>\n",
       "    </tr>\n",
       "    <tr>\n",
       "      <th>40</th>\n",
       "      <td>1318.333333</td>\n",
       "      <td>RL</td>\n",
       "      <td>53.400000</td>\n",
       "      <td>11189.166667</td>\n",
       "      <td>Pave</td>\n",
       "      <td>None</td>\n",
       "      <td>Reg</td>\n",
       "      <td>Lvl</td>\n",
       "      <td>AllPub</td>\n",
       "      <td>Inside</td>\n",
       "      <td>...</td>\n",
       "      <td>25.000000</td>\n",
       "      <td>0.000000</td>\n",
       "      <td>0.000000</td>\n",
       "      <td>None</td>\n",
       "      <td>100.000000</td>\n",
       "      <td>7.833333</td>\n",
       "      <td>2008.000000</td>\n",
       "      <td>WD</td>\n",
       "      <td>Normal</td>\n",
       "      <td>Train</td>\n",
       "    </tr>\n",
       "    <tr>\n",
       "      <th>45</th>\n",
       "      <td>1006.777778</td>\n",
       "      <td>RM</td>\n",
       "      <td>55.555556</td>\n",
       "      <td>6980.555556</td>\n",
       "      <td>Pave</td>\n",
       "      <td>None</td>\n",
       "      <td>Reg</td>\n",
       "      <td>Lvl</td>\n",
       "      <td>AllPub</td>\n",
       "      <td>Inside</td>\n",
       "      <td>...</td>\n",
       "      <td>10.666667</td>\n",
       "      <td>0.000000</td>\n",
       "      <td>0.000000</td>\n",
       "      <td>None</td>\n",
       "      <td>0.000000</td>\n",
       "      <td>6.277778</td>\n",
       "      <td>2007.555556</td>\n",
       "      <td>WD</td>\n",
       "      <td>Normal</td>\n",
       "      <td>Train</td>\n",
       "    </tr>\n",
       "    <tr>\n",
       "      <th>50</th>\n",
       "      <td>1482.003484</td>\n",
       "      <td>RL</td>\n",
       "      <td>63.156489</td>\n",
       "      <td>9724.961672</td>\n",
       "      <td>Pave</td>\n",
       "      <td>None</td>\n",
       "      <td>Reg</td>\n",
       "      <td>Lvl</td>\n",
       "      <td>AllPub</td>\n",
       "      <td>Inside</td>\n",
       "      <td>...</td>\n",
       "      <td>16.003484</td>\n",
       "      <td>0.000000</td>\n",
       "      <td>0.000000</td>\n",
       "      <td>None</td>\n",
       "      <td>39.721254</td>\n",
       "      <td>5.940767</td>\n",
       "      <td>2007.836237</td>\n",
       "      <td>WD</td>\n",
       "      <td>Normal</td>\n",
       "      <td>Train</td>\n",
       "    </tr>\n",
       "    <tr>\n",
       "      <th>60</th>\n",
       "      <td>1419.645217</td>\n",
       "      <td>RL</td>\n",
       "      <td>79.042986</td>\n",
       "      <td>11529.942609</td>\n",
       "      <td>Pave</td>\n",
       "      <td>None</td>\n",
       "      <td>IR1</td>\n",
       "      <td>Lvl</td>\n",
       "      <td>AllPub</td>\n",
       "      <td>Inside</td>\n",
       "      <td>...</td>\n",
       "      <td>16.902609</td>\n",
       "      <td>2.702609</td>\n",
       "      <td>0.019130</td>\n",
       "      <td>None</td>\n",
       "      <td>33.800000</td>\n",
       "      <td>6.330435</td>\n",
       "      <td>2007.683478</td>\n",
       "      <td>WD</td>\n",
       "      <td>Normal</td>\n",
       "      <td>Train</td>\n",
       "    </tr>\n",
       "    <tr>\n",
       "      <th>70</th>\n",
       "      <td>1550.125000</td>\n",
       "      <td>RM</td>\n",
       "      <td>64.213675</td>\n",
       "      <td>9684.843750</td>\n",
       "      <td>Pave</td>\n",
       "      <td>None</td>\n",
       "      <td>Reg</td>\n",
       "      <td>Lvl</td>\n",
       "      <td>AllPub</td>\n",
       "      <td>Inside</td>\n",
       "      <td>...</td>\n",
       "      <td>20.351562</td>\n",
       "      <td>0.000000</td>\n",
       "      <td>0.000000</td>\n",
       "      <td>None</td>\n",
       "      <td>29.062500</td>\n",
       "      <td>6.468750</td>\n",
       "      <td>2007.796875</td>\n",
       "      <td>WD</td>\n",
       "      <td>Normal</td>\n",
       "      <td>Test</td>\n",
       "    </tr>\n",
       "    <tr>\n",
       "      <th>75</th>\n",
       "      <td>1107.521739</td>\n",
       "      <td>RM</td>\n",
       "      <td>74.523810</td>\n",
       "      <td>11065.695652</td>\n",
       "      <td>Pave</td>\n",
       "      <td>None</td>\n",
       "      <td>Reg</td>\n",
       "      <td>Lvl</td>\n",
       "      <td>AllPub</td>\n",
       "      <td>Inside</td>\n",
       "      <td>...</td>\n",
       "      <td>23.304348</td>\n",
       "      <td>22.260870</td>\n",
       "      <td>0.217391</td>\n",
       "      <td>None</td>\n",
       "      <td>0.000000</td>\n",
       "      <td>6.347826</td>\n",
       "      <td>2007.521739</td>\n",
       "      <td>WD</td>\n",
       "      <td>Normal</td>\n",
       "      <td>Train</td>\n",
       "    </tr>\n",
       "    <tr>\n",
       "      <th>80</th>\n",
       "      <td>1508.533898</td>\n",
       "      <td>RL</td>\n",
       "      <td>78.635294</td>\n",
       "      <td>10885.440678</td>\n",
       "      <td>Pave</td>\n",
       "      <td>None</td>\n",
       "      <td>IR1</td>\n",
       "      <td>Lvl</td>\n",
       "      <td>AllPub</td>\n",
       "      <td>Inside</td>\n",
       "      <td>...</td>\n",
       "      <td>17.567797</td>\n",
       "      <td>17.915254</td>\n",
       "      <td>0.101695</td>\n",
       "      <td>None</td>\n",
       "      <td>42.966102</td>\n",
       "      <td>6.322034</td>\n",
       "      <td>2007.788136</td>\n",
       "      <td>WD</td>\n",
       "      <td>Normal</td>\n",
       "      <td>Test</td>\n",
       "    </tr>\n",
       "    <tr>\n",
       "      <th>85</th>\n",
       "      <td>1666.770833</td>\n",
       "      <td>RL</td>\n",
       "      <td>73.437500</td>\n",
       "      <td>9554.375000</td>\n",
       "      <td>Pave</td>\n",
       "      <td>None</td>\n",
       "      <td>Reg</td>\n",
       "      <td>Lvl</td>\n",
       "      <td>AllPub</td>\n",
       "      <td>Inside</td>\n",
       "      <td>...</td>\n",
       "      <td>14.729167</td>\n",
       "      <td>0.000000</td>\n",
       "      <td>0.000000</td>\n",
       "      <td>None</td>\n",
       "      <td>63.541667</td>\n",
       "      <td>5.916667</td>\n",
       "      <td>2007.895833</td>\n",
       "      <td>WD</td>\n",
       "      <td>Normal</td>\n",
       "      <td>Test</td>\n",
       "    </tr>\n",
       "    <tr>\n",
       "      <th>90</th>\n",
       "      <td>1510.229358</td>\n",
       "      <td>RL</td>\n",
       "      <td>70.836957</td>\n",
       "      <td>9375.155963</td>\n",
       "      <td>Pave</td>\n",
       "      <td>None</td>\n",
       "      <td>Reg</td>\n",
       "      <td>Lvl</td>\n",
       "      <td>AllPub</td>\n",
       "      <td>Inside</td>\n",
       "      <td>...</td>\n",
       "      <td>0.000000</td>\n",
       "      <td>0.000000</td>\n",
       "      <td>0.000000</td>\n",
       "      <td>None</td>\n",
       "      <td>110.201835</td>\n",
       "      <td>6.871560</td>\n",
       "      <td>2007.908257</td>\n",
       "      <td>WD</td>\n",
       "      <td>Normal</td>\n",
       "      <td>Test</td>\n",
       "    </tr>\n",
       "  </tbody>\n",
       "</table>\n",
       "<p>16 rows × 79 columns</p>\n",
       "</div>"
      ],
      "text/plain": [
       "                     Id MSZoning  LotFrontage       LotArea Street Alley  \\\n",
       "MSSubClass                                                                 \n",
       "120         1463.890110       RL    44.653333   5298.005495   Pave  None   \n",
       "150         2819.000000       RL          NaN   1700.000000   Pave  None   \n",
       "160         1452.570312       RM    26.887931   2607.859375   Pave  None   \n",
       "180         1487.588235       RM    26.250000   2357.176471   Pave  None   \n",
       "190         1477.426230       RL    68.228070  13124.311475   Pave  None   \n",
       "20          1456.891566       RL    77.667785  11629.441149   Pave  None   \n",
       "30          1474.726619       RM    60.952381   8053.517986   Pave  None   \n",
       "40          1318.333333       RL    53.400000  11189.166667   Pave  None   \n",
       "45          1006.777778       RM    55.555556   6980.555556   Pave  None   \n",
       "50          1482.003484       RL    63.156489   9724.961672   Pave  None   \n",
       "60          1419.645217       RL    79.042986  11529.942609   Pave  None   \n",
       "70          1550.125000       RM    64.213675   9684.843750   Pave  None   \n",
       "75          1107.521739       RM    74.523810  11065.695652   Pave  None   \n",
       "80          1508.533898       RL    78.635294  10885.440678   Pave  None   \n",
       "85          1666.770833       RL    73.437500   9554.375000   Pave  None   \n",
       "90          1510.229358       RL    70.836957   9375.155963   Pave  None   \n",
       "\n",
       "           LotShape LandContour Utilities LotConfig    ...     ScreenPorch  \\\n",
       "MSSubClass                                             ...                   \n",
       "120             Reg         Lvl    AllPub    Inside    ...       22.016484   \n",
       "150             Reg         HLS    AllPub    Inside    ...      200.000000   \n",
       "160             Reg         Lvl    AllPub    Inside    ...        0.734375   \n",
       "180             Reg         Lvl    AllPub    Inside    ...        0.000000   \n",
       "190             Reg         Lvl    AllPub    Inside    ...        8.426230   \n",
       "20              Reg         Lvl    AllPub    Inside    ...       19.295644   \n",
       "30              Reg         Lvl    AllPub    Inside    ...        4.863309   \n",
       "40              Reg         Lvl    AllPub    Inside    ...       25.000000   \n",
       "45              Reg         Lvl    AllPub    Inside    ...       10.666667   \n",
       "50              Reg         Lvl    AllPub    Inside    ...       16.003484   \n",
       "60              IR1         Lvl    AllPub    Inside    ...       16.902609   \n",
       "70              Reg         Lvl    AllPub    Inside    ...       20.351562   \n",
       "75              Reg         Lvl    AllPub    Inside    ...       23.304348   \n",
       "80              IR1         Lvl    AllPub    Inside    ...       17.567797   \n",
       "85              Reg         Lvl    AllPub    Inside    ...       14.729167   \n",
       "90              Reg         Lvl    AllPub    Inside    ...        0.000000   \n",
       "\n",
       "             PoolArea    PoolQC Fence     MiscVal    MoSold       YrSold  \\\n",
       "MSSubClass                                                                 \n",
       "120          0.000000  0.000000  None    0.000000  6.329670  2007.802198   \n",
       "150          0.000000  0.000000  None    0.000000  4.000000  2006.000000   \n",
       "160          0.000000  0.000000  None    0.000000  6.054688  2007.851562   \n",
       "180          0.000000  0.000000  None    0.000000  6.529412  2007.588235   \n",
       "190          0.000000  0.000000  None   76.393443  5.508197  2007.639344   \n",
       "20           0.945320  0.011121  None   79.642261  6.170528  2007.830399   \n",
       "30           0.000000  0.000000  None   17.841727  6.057554  2007.841727   \n",
       "40           0.000000  0.000000  None  100.000000  7.833333  2008.000000   \n",
       "45           0.000000  0.000000  None    0.000000  6.277778  2007.555556   \n",
       "50           0.000000  0.000000  None   39.721254  5.940767  2007.836237   \n",
       "60           2.702609  0.019130  None   33.800000  6.330435  2007.683478   \n",
       "70           0.000000  0.000000  None   29.062500  6.468750  2007.796875   \n",
       "75          22.260870  0.217391  None    0.000000  6.347826  2007.521739   \n",
       "80          17.915254  0.101695  None   42.966102  6.322034  2007.788136   \n",
       "85           0.000000  0.000000  None   63.541667  5.916667  2007.895833   \n",
       "90           0.000000  0.000000  None  110.201835  6.871560  2007.908257   \n",
       "\n",
       "            SaleType  SaleCondition  TrainTest  \n",
       "MSSubClass                                      \n",
       "120               WD         Normal       Test  \n",
       "150               WD         Normal       Test  \n",
       "160               WD         Normal       Test  \n",
       "180               WD         Normal      Train  \n",
       "190               WD         Normal       Test  \n",
       "20                WD         Normal       Test  \n",
       "30                WD         Normal       Test  \n",
       "40                WD         Normal      Train  \n",
       "45                WD         Normal      Train  \n",
       "50                WD         Normal      Train  \n",
       "60                WD         Normal      Train  \n",
       "70                WD         Normal       Test  \n",
       "75                WD         Normal      Train  \n",
       "80                WD         Normal       Test  \n",
       "85                WD         Normal       Test  \n",
       "90                WD         Normal       Test  \n",
       "\n",
       "[16 rows x 79 columns]"
      ]
     },
     "execution_count": 16,
     "metadata": {},
     "output_type": "execute_result"
    }
   ],
   "source": [
    "grouped = df.groupby('MSSubClass')\n",
    "\n",
    "# Define the aggregation\n",
    "def f(x): \n",
    "    if x.dtype in ['int','float']:\n",
    "        return np.mean(x)\n",
    "    else :\n",
    "        if len(x) == 1: return x.values[0]\n",
    "        m = x.mode()\n",
    "        return m[0] if len(m) > 0 else np.nan\n",
    "\n",
    "# Apply the aggregation function then check for an null values\n",
    "g = grouped.aggregate(f)\n",
    "for col in g:\n",
    "    if g[col].isnull().any(): print g[col]\n",
    "        \n",
    "# Look at the result\n",
    "g"
   ]
  },
  {
   "cell_type": "markdown",
   "metadata": {},
   "source": [
    "Not all properties are zoned (or at least have zoning data).  Backfill with the mode, which is `RL`."
   ]
  },
  {
   "cell_type": "code",
   "execution_count": 17,
   "metadata": {
    "collapsed": false
   },
   "outputs": [],
   "source": [
    "df['LotFrontage'].fillna(0,inplace=True)"
   ]
  },
  {
   "cell_type": "markdown",
   "metadata": {},
   "source": [
    "Now populate all the missing data by zone."
   ]
  },
  {
   "cell_type": "code",
   "execution_count": 18,
   "metadata": {
    "collapsed": false
   },
   "outputs": [],
   "source": [
    "for subclass in g.index:\n",
    "    class_subset = df['MSSubClass']==subclass\n",
    "    df[class_subset] = df[class_subset].fillna(g.loc[subclass,:])"
   ]
  },
  {
   "cell_type": "markdown",
   "metadata": {},
   "source": [
    "All of the missing values should be gone, but let's verify."
   ]
  },
  {
   "cell_type": "code",
   "execution_count": 19,
   "metadata": {
    "collapsed": false
   },
   "outputs": [
    {
     "data": {
      "text/plain": [
       "False"
      ]
     },
     "execution_count": 19,
     "metadata": {},
     "output_type": "execute_result"
    }
   ],
   "source": [
    "df.isnull().any().any()"
   ]
  },
  {
   "cell_type": "markdown",
   "metadata": {},
   "source": [
    "# Feature Selection"
   ]
  },
  {
   "cell_type": "code",
   "execution_count": 20,
   "metadata": {
    "collapsed": false
   },
   "outputs": [],
   "source": [
    "training_set = df['TrainTest']=='Train'\n",
    "test_set = df['TrainTest']=='Test'\n",
    "\n",
    "X = df.drop('TrainTest',axis=1)\n",
    "df_train = X[training_set].copy()\n",
    "df_test = X[test_set].copy()\n",
    "\n",
    "num_feats = df_train.dtypes[df_train.dtypes != \"object\"].index\n",
    "cat_feats = df_train.dtypes[df_train.dtypes == \"object\"].index"
   ]
  },
  {
   "cell_type": "code",
   "execution_count": 21,
   "metadata": {
    "collapsed": false,
    "scrolled": false
   },
   "outputs": [
    {
     "data": {
      "text/html": [
       "<div>\n",
       "<table border=\"1\" class=\"dataframe\">\n",
       "  <thead>\n",
       "    <tr style=\"text-align: right;\">\n",
       "      <th></th>\n",
       "      <th>count</th>\n",
       "      <th>mean</th>\n",
       "      <th>std</th>\n",
       "      <th>min</th>\n",
       "      <th>25%</th>\n",
       "      <th>50%</th>\n",
       "      <th>75%</th>\n",
       "      <th>max</th>\n",
       "    </tr>\n",
       "  </thead>\n",
       "  <tbody>\n",
       "    <tr>\n",
       "      <th>Id</th>\n",
       "      <td>1460.0</td>\n",
       "      <td>730.500000</td>\n",
       "      <td>421.610009</td>\n",
       "      <td>1.0</td>\n",
       "      <td>365.75</td>\n",
       "      <td>730.5</td>\n",
       "      <td>1095.25</td>\n",
       "      <td>1460.0</td>\n",
       "    </tr>\n",
       "    <tr>\n",
       "      <th>LotFrontage</th>\n",
       "      <td>1460.0</td>\n",
       "      <td>57.623288</td>\n",
       "      <td>34.664304</td>\n",
       "      <td>0.0</td>\n",
       "      <td>42.00</td>\n",
       "      <td>63.0</td>\n",
       "      <td>79.00</td>\n",
       "      <td>313.0</td>\n",
       "    </tr>\n",
       "    <tr>\n",
       "      <th>LotArea</th>\n",
       "      <td>1460.0</td>\n",
       "      <td>10516.828082</td>\n",
       "      <td>9981.264932</td>\n",
       "      <td>1300.0</td>\n",
       "      <td>7553.50</td>\n",
       "      <td>9478.5</td>\n",
       "      <td>11601.50</td>\n",
       "      <td>215245.0</td>\n",
       "    </tr>\n",
       "    <tr>\n",
       "      <th>OverallQual</th>\n",
       "      <td>1460.0</td>\n",
       "      <td>6.099315</td>\n",
       "      <td>1.382997</td>\n",
       "      <td>1.0</td>\n",
       "      <td>5.00</td>\n",
       "      <td>6.0</td>\n",
       "      <td>7.00</td>\n",
       "      <td>10.0</td>\n",
       "    </tr>\n",
       "    <tr>\n",
       "      <th>OverallCond</th>\n",
       "      <td>1460.0</td>\n",
       "      <td>5.575342</td>\n",
       "      <td>1.112799</td>\n",
       "      <td>1.0</td>\n",
       "      <td>5.00</td>\n",
       "      <td>5.0</td>\n",
       "      <td>6.00</td>\n",
       "      <td>9.0</td>\n",
       "    </tr>\n",
       "    <tr>\n",
       "      <th>YearBuilt</th>\n",
       "      <td>1460.0</td>\n",
       "      <td>1971.267808</td>\n",
       "      <td>30.202904</td>\n",
       "      <td>1872.0</td>\n",
       "      <td>1954.00</td>\n",
       "      <td>1973.0</td>\n",
       "      <td>2000.00</td>\n",
       "      <td>2010.0</td>\n",
       "    </tr>\n",
       "    <tr>\n",
       "      <th>YearRemodAdd</th>\n",
       "      <td>1460.0</td>\n",
       "      <td>1984.865753</td>\n",
       "      <td>20.645407</td>\n",
       "      <td>1950.0</td>\n",
       "      <td>1967.00</td>\n",
       "      <td>1994.0</td>\n",
       "      <td>2004.00</td>\n",
       "      <td>2010.0</td>\n",
       "    </tr>\n",
       "    <tr>\n",
       "      <th>MasVnrArea</th>\n",
       "      <td>1460.0</td>\n",
       "      <td>103.117123</td>\n",
       "      <td>180.731373</td>\n",
       "      <td>0.0</td>\n",
       "      <td>0.00</td>\n",
       "      <td>0.0</td>\n",
       "      <td>164.25</td>\n",
       "      <td>1600.0</td>\n",
       "    </tr>\n",
       "    <tr>\n",
       "      <th>ExterQual</th>\n",
       "      <td>1460.0</td>\n",
       "      <td>3.395890</td>\n",
       "      <td>0.574280</td>\n",
       "      <td>2.0</td>\n",
       "      <td>3.00</td>\n",
       "      <td>3.0</td>\n",
       "      <td>4.00</td>\n",
       "      <td>5.0</td>\n",
       "    </tr>\n",
       "    <tr>\n",
       "      <th>ExterCond</th>\n",
       "      <td>1460.0</td>\n",
       "      <td>3.083562</td>\n",
       "      <td>0.351054</td>\n",
       "      <td>1.0</td>\n",
       "      <td>3.00</td>\n",
       "      <td>3.0</td>\n",
       "      <td>3.00</td>\n",
       "      <td>5.0</td>\n",
       "    </tr>\n",
       "    <tr>\n",
       "      <th>BsmtQual</th>\n",
       "      <td>1460.0</td>\n",
       "      <td>3.489041</td>\n",
       "      <td>0.876478</td>\n",
       "      <td>0.0</td>\n",
       "      <td>3.00</td>\n",
       "      <td>4.0</td>\n",
       "      <td>4.00</td>\n",
       "      <td>5.0</td>\n",
       "    </tr>\n",
       "    <tr>\n",
       "      <th>BsmtCond</th>\n",
       "      <td>1460.0</td>\n",
       "      <td>2.934932</td>\n",
       "      <td>0.552159</td>\n",
       "      <td>0.0</td>\n",
       "      <td>3.00</td>\n",
       "      <td>3.0</td>\n",
       "      <td>3.00</td>\n",
       "      <td>4.0</td>\n",
       "    </tr>\n",
       "    <tr>\n",
       "      <th>BsmtExposure</th>\n",
       "      <td>1460.0</td>\n",
       "      <td>1.630137</td>\n",
       "      <td>1.067391</td>\n",
       "      <td>0.0</td>\n",
       "      <td>1.00</td>\n",
       "      <td>1.0</td>\n",
       "      <td>2.00</td>\n",
       "      <td>4.0</td>\n",
       "    </tr>\n",
       "    <tr>\n",
       "      <th>BsmtFinType1</th>\n",
       "      <td>1460.0</td>\n",
       "      <td>3.545890</td>\n",
       "      <td>2.107776</td>\n",
       "      <td>0.0</td>\n",
       "      <td>1.00</td>\n",
       "      <td>4.0</td>\n",
       "      <td>6.00</td>\n",
       "      <td>6.0</td>\n",
       "    </tr>\n",
       "    <tr>\n",
       "      <th>BsmtFinSF1</th>\n",
       "      <td>1460.0</td>\n",
       "      <td>443.639726</td>\n",
       "      <td>456.098091</td>\n",
       "      <td>0.0</td>\n",
       "      <td>0.00</td>\n",
       "      <td>383.5</td>\n",
       "      <td>712.25</td>\n",
       "      <td>5644.0</td>\n",
       "    </tr>\n",
       "    <tr>\n",
       "      <th>BsmtFinType2</th>\n",
       "      <td>1460.0</td>\n",
       "      <td>1.247260</td>\n",
       "      <td>0.892332</td>\n",
       "      <td>0.0</td>\n",
       "      <td>1.00</td>\n",
       "      <td>1.0</td>\n",
       "      <td>1.00</td>\n",
       "      <td>6.0</td>\n",
       "    </tr>\n",
       "    <tr>\n",
       "      <th>BsmtFinSF2</th>\n",
       "      <td>1460.0</td>\n",
       "      <td>46.549315</td>\n",
       "      <td>161.319273</td>\n",
       "      <td>0.0</td>\n",
       "      <td>0.00</td>\n",
       "      <td>0.0</td>\n",
       "      <td>0.00</td>\n",
       "      <td>1474.0</td>\n",
       "    </tr>\n",
       "    <tr>\n",
       "      <th>BsmtUnfSF</th>\n",
       "      <td>1460.0</td>\n",
       "      <td>567.240411</td>\n",
       "      <td>441.866955</td>\n",
       "      <td>0.0</td>\n",
       "      <td>223.00</td>\n",
       "      <td>477.5</td>\n",
       "      <td>808.00</td>\n",
       "      <td>2336.0</td>\n",
       "    </tr>\n",
       "    <tr>\n",
       "      <th>TotalBsmtSF</th>\n",
       "      <td>1460.0</td>\n",
       "      <td>1057.429452</td>\n",
       "      <td>438.705324</td>\n",
       "      <td>0.0</td>\n",
       "      <td>795.75</td>\n",
       "      <td>991.5</td>\n",
       "      <td>1298.25</td>\n",
       "      <td>6110.0</td>\n",
       "    </tr>\n",
       "    <tr>\n",
       "      <th>HeatingQC</th>\n",
       "      <td>1460.0</td>\n",
       "      <td>4.145205</td>\n",
       "      <td>0.959501</td>\n",
       "      <td>1.0</td>\n",
       "      <td>3.00</td>\n",
       "      <td>5.0</td>\n",
       "      <td>5.00</td>\n",
       "      <td>5.0</td>\n",
       "    </tr>\n",
       "    <tr>\n",
       "      <th>1stFlrSF</th>\n",
       "      <td>1460.0</td>\n",
       "      <td>1162.626712</td>\n",
       "      <td>386.587738</td>\n",
       "      <td>334.0</td>\n",
       "      <td>882.00</td>\n",
       "      <td>1087.0</td>\n",
       "      <td>1391.25</td>\n",
       "      <td>4692.0</td>\n",
       "    </tr>\n",
       "    <tr>\n",
       "      <th>2ndFlrSF</th>\n",
       "      <td>1460.0</td>\n",
       "      <td>346.992466</td>\n",
       "      <td>436.528436</td>\n",
       "      <td>0.0</td>\n",
       "      <td>0.00</td>\n",
       "      <td>0.0</td>\n",
       "      <td>728.00</td>\n",
       "      <td>2065.0</td>\n",
       "    </tr>\n",
       "    <tr>\n",
       "      <th>LowQualFinSF</th>\n",
       "      <td>1460.0</td>\n",
       "      <td>5.844521</td>\n",
       "      <td>48.623081</td>\n",
       "      <td>0.0</td>\n",
       "      <td>0.00</td>\n",
       "      <td>0.0</td>\n",
       "      <td>0.00</td>\n",
       "      <td>572.0</td>\n",
       "    </tr>\n",
       "    <tr>\n",
       "      <th>GrLivArea</th>\n",
       "      <td>1460.0</td>\n",
       "      <td>1515.463699</td>\n",
       "      <td>525.480383</td>\n",
       "      <td>334.0</td>\n",
       "      <td>1129.50</td>\n",
       "      <td>1464.0</td>\n",
       "      <td>1776.75</td>\n",
       "      <td>5642.0</td>\n",
       "    </tr>\n",
       "    <tr>\n",
       "      <th>BsmtFullBath</th>\n",
       "      <td>1460.0</td>\n",
       "      <td>0.425342</td>\n",
       "      <td>0.518911</td>\n",
       "      <td>0.0</td>\n",
       "      <td>0.00</td>\n",
       "      <td>0.0</td>\n",
       "      <td>1.00</td>\n",
       "      <td>3.0</td>\n",
       "    </tr>\n",
       "    <tr>\n",
       "      <th>BsmtHalfBath</th>\n",
       "      <td>1460.0</td>\n",
       "      <td>0.057534</td>\n",
       "      <td>0.238753</td>\n",
       "      <td>0.0</td>\n",
       "      <td>0.00</td>\n",
       "      <td>0.0</td>\n",
       "      <td>0.00</td>\n",
       "      <td>2.0</td>\n",
       "    </tr>\n",
       "    <tr>\n",
       "      <th>FullBath</th>\n",
       "      <td>1460.0</td>\n",
       "      <td>1.565068</td>\n",
       "      <td>0.550916</td>\n",
       "      <td>0.0</td>\n",
       "      <td>1.00</td>\n",
       "      <td>2.0</td>\n",
       "      <td>2.00</td>\n",
       "      <td>3.0</td>\n",
       "    </tr>\n",
       "    <tr>\n",
       "      <th>HalfBath</th>\n",
       "      <td>1460.0</td>\n",
       "      <td>0.382877</td>\n",
       "      <td>0.502885</td>\n",
       "      <td>0.0</td>\n",
       "      <td>0.00</td>\n",
       "      <td>0.0</td>\n",
       "      <td>1.00</td>\n",
       "      <td>2.0</td>\n",
       "    </tr>\n",
       "    <tr>\n",
       "      <th>BedroomAbvGr</th>\n",
       "      <td>1460.0</td>\n",
       "      <td>2.866438</td>\n",
       "      <td>0.815778</td>\n",
       "      <td>0.0</td>\n",
       "      <td>2.00</td>\n",
       "      <td>3.0</td>\n",
       "      <td>3.00</td>\n",
       "      <td>8.0</td>\n",
       "    </tr>\n",
       "    <tr>\n",
       "      <th>KitchenAbvGr</th>\n",
       "      <td>1460.0</td>\n",
       "      <td>1.046575</td>\n",
       "      <td>0.220338</td>\n",
       "      <td>0.0</td>\n",
       "      <td>1.00</td>\n",
       "      <td>1.0</td>\n",
       "      <td>1.00</td>\n",
       "      <td>3.0</td>\n",
       "    </tr>\n",
       "    <tr>\n",
       "      <th>KitchenQual</th>\n",
       "      <td>1460.0</td>\n",
       "      <td>3.511644</td>\n",
       "      <td>0.663760</td>\n",
       "      <td>2.0</td>\n",
       "      <td>3.00</td>\n",
       "      <td>3.0</td>\n",
       "      <td>4.00</td>\n",
       "      <td>5.0</td>\n",
       "    </tr>\n",
       "    <tr>\n",
       "      <th>TotRmsAbvGrd</th>\n",
       "      <td>1460.0</td>\n",
       "      <td>6.517808</td>\n",
       "      <td>1.625393</td>\n",
       "      <td>2.0</td>\n",
       "      <td>5.00</td>\n",
       "      <td>6.0</td>\n",
       "      <td>7.00</td>\n",
       "      <td>14.0</td>\n",
       "    </tr>\n",
       "    <tr>\n",
       "      <th>Functional</th>\n",
       "      <td>1460.0</td>\n",
       "      <td>7.841781</td>\n",
       "      <td>0.667698</td>\n",
       "      <td>2.0</td>\n",
       "      <td>8.00</td>\n",
       "      <td>8.0</td>\n",
       "      <td>8.00</td>\n",
       "      <td>8.0</td>\n",
       "    </tr>\n",
       "    <tr>\n",
       "      <th>Fireplaces</th>\n",
       "      <td>1460.0</td>\n",
       "      <td>0.613014</td>\n",
       "      <td>0.644666</td>\n",
       "      <td>0.0</td>\n",
       "      <td>0.00</td>\n",
       "      <td>1.0</td>\n",
       "      <td>1.00</td>\n",
       "      <td>3.0</td>\n",
       "    </tr>\n",
       "    <tr>\n",
       "      <th>FireplaceQu</th>\n",
       "      <td>1460.0</td>\n",
       "      <td>1.825342</td>\n",
       "      <td>1.810877</td>\n",
       "      <td>0.0</td>\n",
       "      <td>0.00</td>\n",
       "      <td>2.0</td>\n",
       "      <td>4.00</td>\n",
       "      <td>5.0</td>\n",
       "    </tr>\n",
       "    <tr>\n",
       "      <th>GarageYrBlt</th>\n",
       "      <td>1460.0</td>\n",
       "      <td>1868.739726</td>\n",
       "      <td>453.697295</td>\n",
       "      <td>0.0</td>\n",
       "      <td>1958.00</td>\n",
       "      <td>1977.0</td>\n",
       "      <td>2001.00</td>\n",
       "      <td>2010.0</td>\n",
       "    </tr>\n",
       "    <tr>\n",
       "      <th>GarageFinish</th>\n",
       "      <td>1460.0</td>\n",
       "      <td>1.715753</td>\n",
       "      <td>0.892831</td>\n",
       "      <td>0.0</td>\n",
       "      <td>1.00</td>\n",
       "      <td>2.0</td>\n",
       "      <td>2.00</td>\n",
       "      <td>3.0</td>\n",
       "    </tr>\n",
       "    <tr>\n",
       "      <th>GarageCars</th>\n",
       "      <td>1460.0</td>\n",
       "      <td>1.767123</td>\n",
       "      <td>0.747315</td>\n",
       "      <td>0.0</td>\n",
       "      <td>1.00</td>\n",
       "      <td>2.0</td>\n",
       "      <td>2.00</td>\n",
       "      <td>4.0</td>\n",
       "    </tr>\n",
       "    <tr>\n",
       "      <th>GarageArea</th>\n",
       "      <td>1460.0</td>\n",
       "      <td>472.980137</td>\n",
       "      <td>213.804841</td>\n",
       "      <td>0.0</td>\n",
       "      <td>334.50</td>\n",
       "      <td>480.0</td>\n",
       "      <td>576.00</td>\n",
       "      <td>1418.0</td>\n",
       "    </tr>\n",
       "    <tr>\n",
       "      <th>GarageQual</th>\n",
       "      <td>1460.0</td>\n",
       "      <td>2.810274</td>\n",
       "      <td>0.722898</td>\n",
       "      <td>0.0</td>\n",
       "      <td>3.00</td>\n",
       "      <td>3.0</td>\n",
       "      <td>3.00</td>\n",
       "      <td>5.0</td>\n",
       "    </tr>\n",
       "    <tr>\n",
       "      <th>GarageCond</th>\n",
       "      <td>1460.0</td>\n",
       "      <td>2.808904</td>\n",
       "      <td>0.719685</td>\n",
       "      <td>0.0</td>\n",
       "      <td>3.00</td>\n",
       "      <td>3.0</td>\n",
       "      <td>3.00</td>\n",
       "      <td>5.0</td>\n",
       "    </tr>\n",
       "    <tr>\n",
       "      <th>WoodDeckSF</th>\n",
       "      <td>1460.0</td>\n",
       "      <td>94.244521</td>\n",
       "      <td>125.338794</td>\n",
       "      <td>0.0</td>\n",
       "      <td>0.00</td>\n",
       "      <td>0.0</td>\n",
       "      <td>168.00</td>\n",
       "      <td>857.0</td>\n",
       "    </tr>\n",
       "    <tr>\n",
       "      <th>OpenPorchSF</th>\n",
       "      <td>1460.0</td>\n",
       "      <td>46.660274</td>\n",
       "      <td>66.256028</td>\n",
       "      <td>0.0</td>\n",
       "      <td>0.00</td>\n",
       "      <td>25.0</td>\n",
       "      <td>68.00</td>\n",
       "      <td>547.0</td>\n",
       "    </tr>\n",
       "    <tr>\n",
       "      <th>EnclosedPorch</th>\n",
       "      <td>1460.0</td>\n",
       "      <td>21.954110</td>\n",
       "      <td>61.119149</td>\n",
       "      <td>0.0</td>\n",
       "      <td>0.00</td>\n",
       "      <td>0.0</td>\n",
       "      <td>0.00</td>\n",
       "      <td>552.0</td>\n",
       "    </tr>\n",
       "    <tr>\n",
       "      <th>3SsnPorch</th>\n",
       "      <td>1460.0</td>\n",
       "      <td>3.409589</td>\n",
       "      <td>29.317331</td>\n",
       "      <td>0.0</td>\n",
       "      <td>0.00</td>\n",
       "      <td>0.0</td>\n",
       "      <td>0.00</td>\n",
       "      <td>508.0</td>\n",
       "    </tr>\n",
       "    <tr>\n",
       "      <th>ScreenPorch</th>\n",
       "      <td>1460.0</td>\n",
       "      <td>15.060959</td>\n",
       "      <td>55.757415</td>\n",
       "      <td>0.0</td>\n",
       "      <td>0.00</td>\n",
       "      <td>0.0</td>\n",
       "      <td>0.00</td>\n",
       "      <td>480.0</td>\n",
       "    </tr>\n",
       "    <tr>\n",
       "      <th>PoolArea</th>\n",
       "      <td>1460.0</td>\n",
       "      <td>2.758904</td>\n",
       "      <td>40.177307</td>\n",
       "      <td>0.0</td>\n",
       "      <td>0.00</td>\n",
       "      <td>0.0</td>\n",
       "      <td>0.00</td>\n",
       "      <td>738.0</td>\n",
       "    </tr>\n",
       "    <tr>\n",
       "      <th>PoolQC</th>\n",
       "      <td>1460.0</td>\n",
       "      <td>0.017808</td>\n",
       "      <td>0.268952</td>\n",
       "      <td>0.0</td>\n",
       "      <td>0.00</td>\n",
       "      <td>0.0</td>\n",
       "      <td>0.00</td>\n",
       "      <td>5.0</td>\n",
       "    </tr>\n",
       "    <tr>\n",
       "      <th>MiscVal</th>\n",
       "      <td>1460.0</td>\n",
       "      <td>43.489041</td>\n",
       "      <td>496.123024</td>\n",
       "      <td>0.0</td>\n",
       "      <td>0.00</td>\n",
       "      <td>0.0</td>\n",
       "      <td>0.00</td>\n",
       "      <td>15500.0</td>\n",
       "    </tr>\n",
       "    <tr>\n",
       "      <th>MoSold</th>\n",
       "      <td>1460.0</td>\n",
       "      <td>6.321918</td>\n",
       "      <td>2.703626</td>\n",
       "      <td>1.0</td>\n",
       "      <td>5.00</td>\n",
       "      <td>6.0</td>\n",
       "      <td>8.00</td>\n",
       "      <td>12.0</td>\n",
       "    </tr>\n",
       "    <tr>\n",
       "      <th>YrSold</th>\n",
       "      <td>1460.0</td>\n",
       "      <td>2007.815753</td>\n",
       "      <td>1.328095</td>\n",
       "      <td>2006.0</td>\n",
       "      <td>2007.00</td>\n",
       "      <td>2008.0</td>\n",
       "      <td>2009.00</td>\n",
       "      <td>2010.0</td>\n",
       "    </tr>\n",
       "  </tbody>\n",
       "</table>\n",
       "</div>"
      ],
      "text/plain": [
       "                count          mean          std     min      25%     50%  \\\n",
       "Id             1460.0    730.500000   421.610009     1.0   365.75   730.5   \n",
       "LotFrontage    1460.0     57.623288    34.664304     0.0    42.00    63.0   \n",
       "LotArea        1460.0  10516.828082  9981.264932  1300.0  7553.50  9478.5   \n",
       "OverallQual    1460.0      6.099315     1.382997     1.0     5.00     6.0   \n",
       "OverallCond    1460.0      5.575342     1.112799     1.0     5.00     5.0   \n",
       "YearBuilt      1460.0   1971.267808    30.202904  1872.0  1954.00  1973.0   \n",
       "YearRemodAdd   1460.0   1984.865753    20.645407  1950.0  1967.00  1994.0   \n",
       "MasVnrArea     1460.0    103.117123   180.731373     0.0     0.00     0.0   \n",
       "ExterQual      1460.0      3.395890     0.574280     2.0     3.00     3.0   \n",
       "ExterCond      1460.0      3.083562     0.351054     1.0     3.00     3.0   \n",
       "BsmtQual       1460.0      3.489041     0.876478     0.0     3.00     4.0   \n",
       "BsmtCond       1460.0      2.934932     0.552159     0.0     3.00     3.0   \n",
       "BsmtExposure   1460.0      1.630137     1.067391     0.0     1.00     1.0   \n",
       "BsmtFinType1   1460.0      3.545890     2.107776     0.0     1.00     4.0   \n",
       "BsmtFinSF1     1460.0    443.639726   456.098091     0.0     0.00   383.5   \n",
       "BsmtFinType2   1460.0      1.247260     0.892332     0.0     1.00     1.0   \n",
       "BsmtFinSF2     1460.0     46.549315   161.319273     0.0     0.00     0.0   \n",
       "BsmtUnfSF      1460.0    567.240411   441.866955     0.0   223.00   477.5   \n",
       "TotalBsmtSF    1460.0   1057.429452   438.705324     0.0   795.75   991.5   \n",
       "HeatingQC      1460.0      4.145205     0.959501     1.0     3.00     5.0   \n",
       "1stFlrSF       1460.0   1162.626712   386.587738   334.0   882.00  1087.0   \n",
       "2ndFlrSF       1460.0    346.992466   436.528436     0.0     0.00     0.0   \n",
       "LowQualFinSF   1460.0      5.844521    48.623081     0.0     0.00     0.0   \n",
       "GrLivArea      1460.0   1515.463699   525.480383   334.0  1129.50  1464.0   \n",
       "BsmtFullBath   1460.0      0.425342     0.518911     0.0     0.00     0.0   \n",
       "BsmtHalfBath   1460.0      0.057534     0.238753     0.0     0.00     0.0   \n",
       "FullBath       1460.0      1.565068     0.550916     0.0     1.00     2.0   \n",
       "HalfBath       1460.0      0.382877     0.502885     0.0     0.00     0.0   \n",
       "BedroomAbvGr   1460.0      2.866438     0.815778     0.0     2.00     3.0   \n",
       "KitchenAbvGr   1460.0      1.046575     0.220338     0.0     1.00     1.0   \n",
       "KitchenQual    1460.0      3.511644     0.663760     2.0     3.00     3.0   \n",
       "TotRmsAbvGrd   1460.0      6.517808     1.625393     2.0     5.00     6.0   \n",
       "Functional     1460.0      7.841781     0.667698     2.0     8.00     8.0   \n",
       "Fireplaces     1460.0      0.613014     0.644666     0.0     0.00     1.0   \n",
       "FireplaceQu    1460.0      1.825342     1.810877     0.0     0.00     2.0   \n",
       "GarageYrBlt    1460.0   1868.739726   453.697295     0.0  1958.00  1977.0   \n",
       "GarageFinish   1460.0      1.715753     0.892831     0.0     1.00     2.0   \n",
       "GarageCars     1460.0      1.767123     0.747315     0.0     1.00     2.0   \n",
       "GarageArea     1460.0    472.980137   213.804841     0.0   334.50   480.0   \n",
       "GarageQual     1460.0      2.810274     0.722898     0.0     3.00     3.0   \n",
       "GarageCond     1460.0      2.808904     0.719685     0.0     3.00     3.0   \n",
       "WoodDeckSF     1460.0     94.244521   125.338794     0.0     0.00     0.0   \n",
       "OpenPorchSF    1460.0     46.660274    66.256028     0.0     0.00    25.0   \n",
       "EnclosedPorch  1460.0     21.954110    61.119149     0.0     0.00     0.0   \n",
       "3SsnPorch      1460.0      3.409589    29.317331     0.0     0.00     0.0   \n",
       "ScreenPorch    1460.0     15.060959    55.757415     0.0     0.00     0.0   \n",
       "PoolArea       1460.0      2.758904    40.177307     0.0     0.00     0.0   \n",
       "PoolQC         1460.0      0.017808     0.268952     0.0     0.00     0.0   \n",
       "MiscVal        1460.0     43.489041   496.123024     0.0     0.00     0.0   \n",
       "MoSold         1460.0      6.321918     2.703626     1.0     5.00     6.0   \n",
       "YrSold         1460.0   2007.815753     1.328095  2006.0  2007.00  2008.0   \n",
       "\n",
       "                    75%       max  \n",
       "Id              1095.25    1460.0  \n",
       "LotFrontage       79.00     313.0  \n",
       "LotArea        11601.50  215245.0  \n",
       "OverallQual        7.00      10.0  \n",
       "OverallCond        6.00       9.0  \n",
       "YearBuilt       2000.00    2010.0  \n",
       "YearRemodAdd    2004.00    2010.0  \n",
       "MasVnrArea       164.25    1600.0  \n",
       "ExterQual          4.00       5.0  \n",
       "ExterCond          3.00       5.0  \n",
       "BsmtQual           4.00       5.0  \n",
       "BsmtCond           3.00       4.0  \n",
       "BsmtExposure       2.00       4.0  \n",
       "BsmtFinType1       6.00       6.0  \n",
       "BsmtFinSF1       712.25    5644.0  \n",
       "BsmtFinType2       1.00       6.0  \n",
       "BsmtFinSF2         0.00    1474.0  \n",
       "BsmtUnfSF        808.00    2336.0  \n",
       "TotalBsmtSF     1298.25    6110.0  \n",
       "HeatingQC          5.00       5.0  \n",
       "1stFlrSF        1391.25    4692.0  \n",
       "2ndFlrSF         728.00    2065.0  \n",
       "LowQualFinSF       0.00     572.0  \n",
       "GrLivArea       1776.75    5642.0  \n",
       "BsmtFullBath       1.00       3.0  \n",
       "BsmtHalfBath       0.00       2.0  \n",
       "FullBath           2.00       3.0  \n",
       "HalfBath           1.00       2.0  \n",
       "BedroomAbvGr       3.00       8.0  \n",
       "KitchenAbvGr       1.00       3.0  \n",
       "KitchenQual        4.00       5.0  \n",
       "TotRmsAbvGrd       7.00      14.0  \n",
       "Functional         8.00       8.0  \n",
       "Fireplaces         1.00       3.0  \n",
       "FireplaceQu        4.00       5.0  \n",
       "GarageYrBlt     2001.00    2010.0  \n",
       "GarageFinish       2.00       3.0  \n",
       "GarageCars         2.00       4.0  \n",
       "GarageArea       576.00    1418.0  \n",
       "GarageQual         3.00       5.0  \n",
       "GarageCond         3.00       5.0  \n",
       "WoodDeckSF       168.00     857.0  \n",
       "OpenPorchSF       68.00     547.0  \n",
       "EnclosedPorch      0.00     552.0  \n",
       "3SsnPorch          0.00     508.0  \n",
       "ScreenPorch        0.00     480.0  \n",
       "PoolArea           0.00     738.0  \n",
       "PoolQC             0.00       5.0  \n",
       "MiscVal            0.00   15500.0  \n",
       "MoSold             8.00      12.0  \n",
       "YrSold          2009.00    2010.0  "
      ]
     },
     "execution_count": 21,
     "metadata": {},
     "output_type": "execute_result"
    }
   ],
   "source": [
    "df_train[num_feats].describe().transpose()"
   ]
  },
  {
   "cell_type": "code",
   "execution_count": 22,
   "metadata": {
    "collapsed": false
   },
   "outputs": [
    {
     "data": {
      "text/html": [
       "<div>\n",
       "<table border=\"1\" class=\"dataframe\">\n",
       "  <thead>\n",
       "    <tr style=\"text-align: right;\">\n",
       "      <th></th>\n",
       "      <th>count</th>\n",
       "      <th>unique</th>\n",
       "      <th>top</th>\n",
       "      <th>freq</th>\n",
       "    </tr>\n",
       "  </thead>\n",
       "  <tbody>\n",
       "    <tr>\n",
       "      <th>MSSubClass</th>\n",
       "      <td>1460</td>\n",
       "      <td>15</td>\n",
       "      <td>20</td>\n",
       "      <td>536</td>\n",
       "    </tr>\n",
       "    <tr>\n",
       "      <th>MSZoning</th>\n",
       "      <td>1460</td>\n",
       "      <td>5</td>\n",
       "      <td>RL</td>\n",
       "      <td>1151</td>\n",
       "    </tr>\n",
       "    <tr>\n",
       "      <th>Street</th>\n",
       "      <td>1460</td>\n",
       "      <td>2</td>\n",
       "      <td>Pave</td>\n",
       "      <td>1454</td>\n",
       "    </tr>\n",
       "    <tr>\n",
       "      <th>Alley</th>\n",
       "      <td>1460</td>\n",
       "      <td>3</td>\n",
       "      <td>None</td>\n",
       "      <td>1369</td>\n",
       "    </tr>\n",
       "    <tr>\n",
       "      <th>LotShape</th>\n",
       "      <td>1460</td>\n",
       "      <td>4</td>\n",
       "      <td>Reg</td>\n",
       "      <td>925</td>\n",
       "    </tr>\n",
       "    <tr>\n",
       "      <th>LandContour</th>\n",
       "      <td>1460</td>\n",
       "      <td>4</td>\n",
       "      <td>Lvl</td>\n",
       "      <td>1311</td>\n",
       "    </tr>\n",
       "    <tr>\n",
       "      <th>Utilities</th>\n",
       "      <td>1460</td>\n",
       "      <td>2</td>\n",
       "      <td>AllPub</td>\n",
       "      <td>1459</td>\n",
       "    </tr>\n",
       "    <tr>\n",
       "      <th>LotConfig</th>\n",
       "      <td>1460</td>\n",
       "      <td>5</td>\n",
       "      <td>Inside</td>\n",
       "      <td>1052</td>\n",
       "    </tr>\n",
       "    <tr>\n",
       "      <th>LandSlope</th>\n",
       "      <td>1460</td>\n",
       "      <td>3</td>\n",
       "      <td>Gtl</td>\n",
       "      <td>1382</td>\n",
       "    </tr>\n",
       "    <tr>\n",
       "      <th>Neighborhood</th>\n",
       "      <td>1460</td>\n",
       "      <td>25</td>\n",
       "      <td>NAmes</td>\n",
       "      <td>225</td>\n",
       "    </tr>\n",
       "    <tr>\n",
       "      <th>Condition1</th>\n",
       "      <td>1460</td>\n",
       "      <td>9</td>\n",
       "      <td>Norm</td>\n",
       "      <td>1260</td>\n",
       "    </tr>\n",
       "    <tr>\n",
       "      <th>Condition2</th>\n",
       "      <td>1460</td>\n",
       "      <td>8</td>\n",
       "      <td>Norm</td>\n",
       "      <td>1445</td>\n",
       "    </tr>\n",
       "    <tr>\n",
       "      <th>BldgType</th>\n",
       "      <td>1460</td>\n",
       "      <td>5</td>\n",
       "      <td>1Fam</td>\n",
       "      <td>1220</td>\n",
       "    </tr>\n",
       "    <tr>\n",
       "      <th>HouseStyle</th>\n",
       "      <td>1460</td>\n",
       "      <td>8</td>\n",
       "      <td>1Story</td>\n",
       "      <td>726</td>\n",
       "    </tr>\n",
       "    <tr>\n",
       "      <th>RoofStyle</th>\n",
       "      <td>1460</td>\n",
       "      <td>6</td>\n",
       "      <td>Gable</td>\n",
       "      <td>1141</td>\n",
       "    </tr>\n",
       "    <tr>\n",
       "      <th>RoofMatl</th>\n",
       "      <td>1460</td>\n",
       "      <td>8</td>\n",
       "      <td>CompShg</td>\n",
       "      <td>1434</td>\n",
       "    </tr>\n",
       "    <tr>\n",
       "      <th>Exterior1st</th>\n",
       "      <td>1460</td>\n",
       "      <td>15</td>\n",
       "      <td>VinylSd</td>\n",
       "      <td>515</td>\n",
       "    </tr>\n",
       "    <tr>\n",
       "      <th>Exterior2nd</th>\n",
       "      <td>1460</td>\n",
       "      <td>16</td>\n",
       "      <td>VinylSd</td>\n",
       "      <td>504</td>\n",
       "    </tr>\n",
       "    <tr>\n",
       "      <th>MasVnrType</th>\n",
       "      <td>1460</td>\n",
       "      <td>4</td>\n",
       "      <td>None</td>\n",
       "      <td>874</td>\n",
       "    </tr>\n",
       "    <tr>\n",
       "      <th>Foundation</th>\n",
       "      <td>1460</td>\n",
       "      <td>6</td>\n",
       "      <td>PConc</td>\n",
       "      <td>647</td>\n",
       "    </tr>\n",
       "    <tr>\n",
       "      <th>Heating</th>\n",
       "      <td>1460</td>\n",
       "      <td>6</td>\n",
       "      <td>GasA</td>\n",
       "      <td>1428</td>\n",
       "    </tr>\n",
       "    <tr>\n",
       "      <th>CentralAir</th>\n",
       "      <td>1460</td>\n",
       "      <td>2</td>\n",
       "      <td>Y</td>\n",
       "      <td>1365</td>\n",
       "    </tr>\n",
       "    <tr>\n",
       "      <th>Electrical</th>\n",
       "      <td>1460</td>\n",
       "      <td>5</td>\n",
       "      <td>SBrkr</td>\n",
       "      <td>1335</td>\n",
       "    </tr>\n",
       "    <tr>\n",
       "      <th>GarageType</th>\n",
       "      <td>1460</td>\n",
       "      <td>7</td>\n",
       "      <td>Attchd</td>\n",
       "      <td>870</td>\n",
       "    </tr>\n",
       "    <tr>\n",
       "      <th>PavedDrive</th>\n",
       "      <td>1460</td>\n",
       "      <td>3</td>\n",
       "      <td>Y</td>\n",
       "      <td>1340</td>\n",
       "    </tr>\n",
       "    <tr>\n",
       "      <th>Fence</th>\n",
       "      <td>1460</td>\n",
       "      <td>5</td>\n",
       "      <td>None</td>\n",
       "      <td>1179</td>\n",
       "    </tr>\n",
       "    <tr>\n",
       "      <th>SaleType</th>\n",
       "      <td>1460</td>\n",
       "      <td>9</td>\n",
       "      <td>WD</td>\n",
       "      <td>1267</td>\n",
       "    </tr>\n",
       "    <tr>\n",
       "      <th>SaleCondition</th>\n",
       "      <td>1460</td>\n",
       "      <td>6</td>\n",
       "      <td>Normal</td>\n",
       "      <td>1198</td>\n",
       "    </tr>\n",
       "  </tbody>\n",
       "</table>\n",
       "</div>"
      ],
      "text/plain": [
       "              count unique      top  freq\n",
       "MSSubClass     1460     15       20   536\n",
       "MSZoning       1460      5       RL  1151\n",
       "Street         1460      2     Pave  1454\n",
       "Alley          1460      3     None  1369\n",
       "LotShape       1460      4      Reg   925\n",
       "LandContour    1460      4      Lvl  1311\n",
       "Utilities      1460      2   AllPub  1459\n",
       "LotConfig      1460      5   Inside  1052\n",
       "LandSlope      1460      3      Gtl  1382\n",
       "Neighborhood   1460     25    NAmes   225\n",
       "Condition1     1460      9     Norm  1260\n",
       "Condition2     1460      8     Norm  1445\n",
       "BldgType       1460      5     1Fam  1220\n",
       "HouseStyle     1460      8   1Story   726\n",
       "RoofStyle      1460      6    Gable  1141\n",
       "RoofMatl       1460      8  CompShg  1434\n",
       "Exterior1st    1460     15  VinylSd   515\n",
       "Exterior2nd    1460     16  VinylSd   504\n",
       "MasVnrType     1460      4     None   874\n",
       "Foundation     1460      6    PConc   647\n",
       "Heating        1460      6     GasA  1428\n",
       "CentralAir     1460      2        Y  1365\n",
       "Electrical     1460      5    SBrkr  1335\n",
       "GarageType     1460      7   Attchd   870\n",
       "PavedDrive     1460      3        Y  1340\n",
       "Fence          1460      5     None  1179\n",
       "SaleType       1460      9       WD  1267\n",
       "SaleCondition  1460      6   Normal  1198"
      ]
     },
     "execution_count": 22,
     "metadata": {},
     "output_type": "execute_result"
    }
   ],
   "source": [
    "df_train[cat_feats].describe().transpose()"
   ]
  },
  {
   "cell_type": "markdown",
   "metadata": {},
   "source": [
    "# Model Creation"
   ]
  },
  {
   "cell_type": "code",
   "execution_count": 23,
   "metadata": {
    "collapsed": false
   },
   "outputs": [
    {
     "data": {
      "text/plain": [
       "<matplotlib.axes._subplots.AxesSubplot at 0x7fdf3a4bc310>"
      ]
     },
     "execution_count": 23,
     "metadata": {},
     "output_type": "execute_result"
    },
    {
     "data": {
      "image/png": "[encoded data removed]",
      "text/plain": [
       "<matplotlib.figure.Figure at 0x7fdf3a4bc050>"
      ]
     },
     "metadata": {},
     "output_type": "display_data"
    }
   ],
   "source": [
    "y.hist()"
   ]
  },
  {
   "cell_type": "code",
   "execution_count": 24,
   "metadata": {
    "collapsed": false
   },
   "outputs": [],
   "source": [
    "X = pd.get_dummies(df.drop('TrainTest',axis=1))\n",
    "df_train = X[training_set].copy()\n",
    "df_test = X[test_set].copy()\n",
    "y0 = y"
   ]
  },
  {
   "cell_type": "code",
   "execution_count": 25,
   "metadata": {
    "collapsed": false
   },
   "outputs": [
    {
     "data": {
      "text/plain": [
       "<matplotlib.axes._subplots.AxesSubplot at 0x7fdf3a168dd0>"
      ]
     },
     "execution_count": 25,
     "metadata": {},
     "output_type": "execute_result"
    },
    {
     "data": {
      "image/png": "[encoded data removed]",
      "text/plain": [
       "<matplotlib.figure.Figure at 0x7fdf3796cc10>"
      ]
     },
     "metadata": {},
     "output_type": "display_data"
    }
   ],
   "source": [
    "y = np.log(y0)\n",
    "y.hist()"
   ]
  },
  {
   "cell_type": "code",
   "execution_count": 26,
   "metadata": {
    "collapsed": false
   },
   "outputs": [
    {
     "name": "stdout",
     "output_type": "stream",
     "text": [
      "(1460, 80)\n",
      "(2919, 248)\n"
     ]
    }
   ],
   "source": [
    "print df[training_set].shape\n",
    "print X.shape"
   ]
  },
  {
   "cell_type": "markdown",
   "metadata": {},
   "source": [
    "## Random Forrest"
   ]
  },
  {
   "cell_type": "code",
   "execution_count": 27,
   "metadata": {
    "collapsed": false
   },
   "outputs": [],
   "source": [
    "params = {'n_estimators':100, 'criterion':'mse', 'max_depth':4}\n",
    "rf = RandomForestRegressor(**params)"
   ]
  },
  {
   "cell_type": "code",
   "execution_count": 28,
   "metadata": {
    "collapsed": false
   },
   "outputs": [
    {
     "name": "stdout",
     "output_type": "stream",
     "text": [
      "Prediction accuracy =  0.153682430116\n",
      "5-Fold cross validation =  0.175521471369 [ 0.16961253  0.18300996  0.17854344  0.16796688  0.17847454]\n"
     ]
    }
   ],
   "source": [
    "x_train = StandardScaler().fit_transform(df_train)\n",
    "rf.fit(x_train, y)\n",
    "output = rf.predict(x_train)\n",
    "cv = cross_validation.cross_val_score(rf, x_train, y, cv=5, scoring='mean_squared_error')\n",
    "\n",
    "print 'Prediction accuracy = ', np.sqrt(mean_squared_error(y,output))\n",
    "print '5-Fold cross validation = ', np.mean(np.sqrt(np.abs(cv))), np.sqrt(np.abs(cv))"
   ]
  },
  {
   "cell_type": "code",
   "execution_count": 29,
   "metadata": {
    "collapsed": false
   },
   "outputs": [
    {
     "name": "stdout",
     "output_type": "stream",
     "text": [
      "4 4.0 4\n"
     ]
    }
   ],
   "source": [
    "depth = [estimator.tree_.max_depth for estimator in rf.estimators_]\n",
    "print min(depth), np.mean(depth), max(depth)"
   ]
  },
  {
   "cell_type": "code",
   "execution_count": 30,
   "metadata": {
    "collapsed": false
   },
   "outputs": [
    {
     "data": {
      "text/plain": [
       "<matplotlib.axes._subplots.AxesSubplot at 0x7fdf373fb090>"
      ]
     },
     "execution_count": 30,
     "metadata": {},
     "output_type": "execute_result"
    },
    {
     "data": {
      "image/png": "[encoded data removed]",
      "text/plain": [
       "<matplotlib.figure.Figure at 0x7fdf3a41eb90>"
      ]
     },
     "metadata": {},
     "output_type": "display_data"
    }
   ],
   "source": [
    "feat_imp = pd.Series(rf.feature_importances_, index=df_train.columns)\n",
    "feat_imp.sort_values().tail(15).plot(kind='barh')"
   ]
  },
  {
   "cell_type": "code",
   "execution_count": 31,
   "metadata": {
    "collapsed": true
   },
   "outputs": [],
   "source": [
    "x_test = StandardScaler().fit_transform(df_test)\n",
    "output_rf = np.exp(rf.predict(x_test))\n",
    "with open('output_rf.csv','wb') as csv_file :\n",
    "    output_file = csv.writer(csv_file)\n",
    "    output_file.writerow([\"Id\", \"SalePrice\"])\n",
    "    for pid,s in zip(df_test['Id'],output_rf) :       # For each row in test.csv\n",
    "        output_file.writerow([pid,int(s)])"
   ]
  },
  {
   "cell_type": "markdown",
   "metadata": {},
   "source": [
    "## Gradient Boosting"
   ]
  },
  {
   "cell_type": "code",
   "execution_count": 32,
   "metadata": {
    "collapsed": false
   },
   "outputs": [],
   "source": [
    "params = {'n_estimators':100, 'max_depth':4}\n",
    "gb = GradientBoostingRegressor(**params)"
   ]
  },
  {
   "cell_type": "code",
   "execution_count": 33,
   "metadata": {
    "collapsed": false
   },
   "outputs": [
    {
     "name": "stdout",
     "output_type": "stream",
     "text": [
      "Prediction accuracy =  0.0618163567545\n",
      "5-Fold cross validation =  [ 0.11202701  0.14030729  0.13096059  0.11700467  0.12077698]\n"
     ]
    }
   ],
   "source": [
    "x_train = StandardScaler().fit_transform(df_train)\n",
    "gb.fit(x_train, y)\n",
    "output = gb.predict(x_train)\n",
    "cv = cross_validation.cross_val_score(gb, x_train, y, cv=5, scoring='mean_squared_error')\n",
    "\n",
    "print 'Prediction accuracy = ', np.sqrt(mean_squared_error(y,output))\n",
    "print '5-Fold cross validation = ', np.sqrt(np.abs(cv))"
   ]
  },
  {
   "cell_type": "code",
   "execution_count": 34,
   "metadata": {
    "collapsed": false
   },
   "outputs": [
    {
     "name": "stdout",
     "output_type": "stream",
     "text": [
      "4 4.0 4\n"
     ]
    }
   ],
   "source": [
    "depth = [estimator.tree_.max_depth for estimator in rf.estimators_]\n",
    "print min(depth), np.mean(depth), max(depth)"
   ]
  },
  {
   "cell_type": "code",
   "execution_count": 35,
   "metadata": {
    "collapsed": false
   },
   "outputs": [
    {
     "data": {
      "text/plain": [
       "<matplotlib.axes._subplots.AxesSubplot at 0x7fdf37232890>"
      ]
     },
     "execution_count": 35,
     "metadata": {},
     "output_type": "execute_result"
    },
    {
     "data": {
      "image/png": "[encoded data removed]",
      "text/plain": [
       "<matplotlib.figure.Figure at 0x7fdf3a43aed0>"
      ]
     },
     "metadata": {},
     "output_type": "display_data"
    }
   ],
   "source": [
    "feat_imp = pd.Series(rf.feature_importances_, index=df_train.columns)\n",
    "feat_imp.sort_values().tail(15).plot(kind='barh')"
   ]
  },
  {
   "cell_type": "code",
   "execution_count": 36,
   "metadata": {
    "collapsed": true
   },
   "outputs": [],
   "source": [
    "x_test = StandardScaler().fit_transform(df_test)\n",
    "output_gb = np.exp(gb.predict(x_test))\n",
    "with open('output_gb.csv','wb') as csv_file :\n",
    "    output_file = csv.writer(csv_file)\n",
    "    output_file.writerow([\"Id\", \"SalePrice\"])\n",
    "    for pid,s in zip(df_test['Id'],output_gb) :       # For each row in test.csv\n",
    "        output_file.writerow([pid,int(s)])"
   ]
  },
  {
   "cell_type": "markdown",
   "metadata": {},
   "source": [
    "## Lasso Regression"
   ]
  },
  {
   "cell_type": "code",
   "execution_count": 37,
   "metadata": {
    "collapsed": false
   },
   "outputs": [],
   "source": [
    "x_train = StandardScaler().fit_transform(df_train)\n",
    "alphas = np.logspace(-3,-2,20)\n",
    "cvs = []\n",
    "for alpha in alphas:\n",
    "    linreg_l1 = Lasso(alpha=alpha,normalize=False)\n",
    "    cv = cross_validation.cross_val_score(linreg_l1, x_train, y, cv=5, scoring='mean_squared_error')\n",
    "    cvs.append(np.mean(np.sqrt(np.abs(cv))))"
   ]
  },
  {
   "cell_type": "code",
   "execution_count": 38,
   "metadata": {
    "collapsed": false
   },
   "outputs": [
    {
     "data": {
      "image/png": "[encoded data removed]",
      "text/plain": [
       "<matplotlib.figure.Figure at 0x7fdf36f27990>"
      ]
     },
     "metadata": {},
     "output_type": "display_data"
    }
   ],
   "source": [
    "fig, ax = plt.subplots()\n",
    "ax.semilogx(alphas,cvs)\n",
    "ax.grid(True)"
   ]
  },
  {
   "cell_type": "code",
   "execution_count": 39,
   "metadata": {
    "collapsed": false
   },
   "outputs": [
    {
     "name": "stdout",
     "output_type": "stream",
     "text": [
      "Prediction accuracy =  0.106470014136\n",
      "5-Fold cross validation =  0.137378966653\n"
     ]
    }
   ],
   "source": [
    "alpha = 0.0045\n",
    "linreg_l1 = Lasso(alpha=alpha)\n",
    "linreg_l1 = linreg_l1.fit(x_train, y)\n",
    "output = linreg_l1.predict(x_train)\n",
    "cv = cross_validation.cross_val_score(linreg_l1, x_train, y, cv=5, scoring='mean_squared_error')\n",
    "\n",
    "print 'Prediction accuracy = ', np.sqrt(mean_squared_error(y,output))\n",
    "print '5-Fold cross validation = ', np.mean(np.sqrt(np.abs(cv)))"
   ]
  },
  {
   "cell_type": "code",
   "execution_count": 40,
   "metadata": {
    "collapsed": false
   },
   "outputs": [
    {
     "name": "stdout",
     "output_type": "stream",
     "text": [
      "Non-zero coeffs = 82\n",
      "Zero coeff      = 166\n"
     ]
    }
   ],
   "source": [
    "coef = pd.Series(linreg_l1.coef_, index = df_train.columns)\n",
    "print \"Non-zero coeffs = \" + str(sum(coef != 0)) \n",
    "print \"Zero coeff      = \" + str(sum(coef == 0))"
   ]
  },
  {
   "cell_type": "code",
   "execution_count": 41,
   "metadata": {
    "collapsed": false
   },
   "outputs": [
    {
     "data": {
      "text/plain": [
       "<matplotlib.text.Text at 0x7fdf06f76090>"
      ]
     },
     "execution_count": 41,
     "metadata": {},
     "output_type": "execute_result"
    },
    {
     "data": {
      "image/png": "[encoded data removed]",
      "text/plain": [
       "<matplotlib.figure.Figure at 0x7fdf342216d0>"
      ]
     },
     "metadata": {},
     "output_type": "display_data"
    }
   ],
   "source": [
    "imp_coef = pd.concat([coef.sort_values().head(10),\n",
    "                     coef.sort_values().tail(10)])\n",
    "\n",
    "matplotlib.rcParams['figure.figsize'] = (8.0, 10.0)\n",
    "imp_coef.plot(kind = \"barh\")\n",
    "plt.title(\"Coefficients in the Lasso Model\")"
   ]
  },
  {
   "cell_type": "code",
   "execution_count": 42,
   "metadata": {
    "collapsed": false
   },
   "outputs": [
    {
     "data": {
      "text/plain": [
       "[<matplotlib.lines.Line2D at 0x7fdf06e34090>]"
      ]
     },
     "execution_count": 42,
     "metadata": {},
     "output_type": "execute_result"
    },
    {
     "data": {
      "image/png": "[encoded data removed]",
      "text/plain": [
       "<matplotlib.figure.Figure at 0x7fdf341b6610>"
      ]
     },
     "metadata": {},
     "output_type": "display_data"
    }
   ],
   "source": [
    "plt.plot(df_train['GrLivArea'],y,'o')"
   ]
  },
  {
   "cell_type": "code",
   "execution_count": 43,
   "metadata": {
    "collapsed": false
   },
   "outputs": [],
   "source": [
    "x_test = StandardScaler().fit_transform(df_test)\n",
    "output_l1 = np.exp(linreg_l1.predict(x_test))\n",
    "with open('output.csv','wb') as csv_file :\n",
    "    output_file = csv.writer(csv_file)\n",
    "    output_file.writerow([\"Id\", \"SalePrice\"])\n",
    "    for pid,s in zip(df_test['Id'],output) :       # For each row in test.csv\n",
    "        output_file.writerow([pid,int(s)])"
   ]
  },
  {
   "cell_type": "code",
   "execution_count": 44,
   "metadata": {
    "collapsed": false
   },
   "outputs": [],
   "source": [
    "output_mean = (output_rf + output_gb + output_l1)/3.0\n",
    "with open('output_ens.csv','wb') as csv_file :\n",
    "    output_file = csv.writer(csv_file)\n",
    "    output_file.writerow([\"Id\", \"SalePrice\"])\n",
    "    for pid,s in zip(df_test['Id'],output_mean) :       # For each row in test.csv\n",
    "        output_file.writerow([pid,int(s)])"
   ]
  },
  {
   "cell_type": "markdown",
   "metadata": {},
   "source": [
    "## K Neighbors Regressor"
   ]
  },
  {
   "cell_type": "code",
   "execution_count": 45,
   "metadata": {
    "collapsed": true
   },
   "outputs": [],
   "source": [
    "params = {'n_neighbors':5, 'weights':'distance','p':1}\n",
    "kn = KNeighborsRegressor(**params)"
   ]
  },
  {
   "cell_type": "code",
   "execution_count": 46,
   "metadata": {
    "collapsed": false
   },
   "outputs": [
    {
     "name": "stdout",
     "output_type": "stream",
     "text": [
      "Prediction accuracy =  0.0\n",
      "5-Fold cross validation =  [ 0.1763542   0.18933627  0.18151641  0.16945984  0.1904162 ]\n"
     ]
    }
   ],
   "source": [
    "x_train = StandardScaler().fit_transform(df_train)\n",
    "kn.fit(x_train, y)\n",
    "output = kn.predict(x_train)\n",
    "cv = cross_validation.cross_val_score(kn, x_train, y, cv=5, scoring='mean_squared_error')\n",
    "\n",
    "print 'Prediction accuracy = ', np.sqrt(mean_squared_error(y,output))\n",
    "print '5-Fold cross validation = ', np.sqrt(np.abs(cv))"
   ]
  },
  {
   "cell_type": "code",
   "execution_count": null,
   "metadata": {
    "collapsed": true
   },
   "outputs": [],
   "source": []
  }
 ],
 "metadata": {
  "anaconda-cloud": {},
  "kernelspec": {
   "display_name": "Python [default]",
   "language": "python",
   "name": "python2"
  },
  "language_info": {
   "codemirror_mode": {
    "name": "ipython",
    "version": 2
   },
   "file_extension": ".py",
   "mimetype": "text/x-python",
   "name": "python",
   "nbconvert_exporter": "python",
   "pygments_lexer": "ipython2",
   "version": "2.7.12"
  }
 },
 "nbformat": 4,
 "nbformat_minor": 0
}
